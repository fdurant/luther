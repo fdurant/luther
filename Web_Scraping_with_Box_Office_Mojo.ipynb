{
 "metadata": {
  "name": "",
  "signature": "sha256:5b2f08578f6f2ef34e4aae0310facdd28fd5ad6735e9e4b76303a40a6b18d86d"
 },
 "nbformat": 3,
 "nbformat_minor": 0,
 "worksheets": [
  {
   "cells": [
    {
     "cell_type": "code",
     "collapsed": false,
     "input": [
      "# scraping 1 class\n",
      "import urllib2\n",
      "\n",
      "from bs4 import BeautifulSoup\n",
      "\n",
      "url = \"http://www.boxofficemojo.com/movies/?id=biglebowski.htm\"\n",
      "\n",
      "page = urllib2.urlopen(url)\n",
      "\n",
      "soup = BeautifulSoup(page)"
     ],
     "language": "python",
     "metadata": {},
     "outputs": [],
     "prompt_number": 3
    },
    {
     "cell_type": "code",
     "collapsed": false,
     "input": [
      "soup.find('a')"
     ],
     "language": "python",
     "metadata": {},
     "outputs": [
      {
       "metadata": {},
       "output_type": "pyout",
       "prompt_number": 4,
       "text": [
        "<a href=\"/goto.php?a=5\" target=\"4\"><font face=\"Verdana\" size=\"3\"><b>'Sniper' opens to $105.3 million over four-day weekend... &gt;</b></font><br/></a>"
       ]
      }
     ],
     "prompt_number": 4
    },
    {
     "cell_type": "code",
     "collapsed": false,
     "input": [
      "soup.find('a')['href']"
     ],
     "language": "python",
     "metadata": {},
     "outputs": [
      {
       "metadata": {},
       "output_type": "pyout",
       "prompt_number": 6,
       "text": [
        "u'/goto.php?a=5'"
       ]
      }
     ],
     "prompt_number": 6
    },
    {
     "cell_type": "code",
     "collapsed": false,
     "input": [
      "#for element in soup.find_all(class_='mp_box_content'):\n",
      " #   print element, \"\\n\"\n",
      "    \n",
      "print soup.find(class_='mp_box_content').find_all('td')\n",
      "\n",
      "print soup.find(id='hp_footer')"
     ],
     "language": "python",
     "metadata": {},
     "outputs": [
      {
       "output_type": "stream",
       "stream": "stdout",
       "text": [
        "[<td width=\"40%\"><b>Domestic:</b></td>, <td align=\"right\" width=\"35%\">\u00a0<b>$17,451,873</b></td>]\n",
        "<div id=\"hp_footer\">\n",
        "<div style=\"padding-bottom: 20px;\">\n",
        "<div style=\"margin: 0px 121px; vertical-align: top;\">\n",
        "<div id=\"footer_links\">\n",
        "<ul class=\"footer_link_list\">\n",
        "<li><strong>Latest Updates</strong></li>\n",
        "<li><a href=\"/news/?ref=ft\">Movie News</a>\n",
        "<li><a href=\"/daily/chart/?ref=ft\">Daily Chart</a></li>\n",
        "<li><a href=\"/weekend/chart/?ref=ft\">Weekend Chart</a></li>\n",
        "<li><a href=\"/alltime/?ref=ft\">All Time Charts</a></li>\n",
        "<li><a href=\"/intl/?ref=ft\">International Charts</a></li>\n",
        "</li></ul>\n",
        "<!--\n",
        "\t\t\t\t\t<ul class=\"footer_link_list\">\n",
        "\t\t\t\t\t\t<li><strong>Popular Movies</strong></li>\n",
        "\t\t\t\t\t\t\t\t\t\t\t</ul>\n",
        "\t\t\t\t\t-->\n",
        "<ul class=\"footer_link_list\">\n",
        "<li><strong>Indices</strong></li>\n",
        "<li><a href=\"/movies/?ref=ft\">Movies A-Z</a></li>\n",
        "<li><a href=\"/people/?ref=ft\">People</a></li>\n",
        "<li><a href=\"/genres/?ref=ft\">Genres</a></li>\n",
        "<li><a href=\"/franchises/?ref=ft\">Franchises</a></li>\n",
        "<li><a href=\"/showdowns/?ref=ft\">Showdowns</a></li>\n",
        "</ul>\n",
        "<ul class=\"footer_link_list\">\n",
        "<li><strong>Other</strong></li>\n",
        "<li><a href=\"/about/?ref=ft\">About This Site</a></li>\n",
        "<li><a href=\"/about/advertise.htm?ref=ft\">Advertising</a></li>\n",
        "<li><a href=\"/users/?ref=ft\">My Account</a></li>\n",
        "<li><a href=\"/about/rss.htm?ref=ft\">RSS Feeds</a></li>\n",
        "</ul>\n",
        "</div>\n",
        "<div id=\"copyright\">\n",
        "<a href=\"/?ref=ft\"><img alt=\"Box Office Mojo\" height=\"56\" src=\"/img/misc/bom_logo1.png\" width=\"245\"/></a><br>\n",
        "<p>An <a href=\"http://imdb.com/\"><img alt=\"IMDb\" height=\"16\" src=\"/img/misc/IMDbSm.png\" valign=\"middle\" width=\"34\"/></a> company<br><br/></br></p>\n",
        "<p>\u00a9 <a href=\"http://imdb.com/\">IMDb.com</a>, Inc. or its affiliates. All rights reserved. Box Office Mojo and IMDb are trademarks or registered trademarks of IMDb.com, Inc. or its affiliates. <a href=\"/about/termsofuse.htm\">Terms of Use</a> and <a href=\"/about/privacy.htm\">Privacy Policy</a> under which this service is provided to you.</p>\n",
        "</br></div>\n",
        "</div>\n",
        "<div style=\"clear:both;\">\n",
        "<div>\n",
        "<!-- begin ad tag (tile=6) -->\n",
        "<script type=\"text/javascript\">\r\n",
        "//<![CDATA[\r\n",
        "ord=185189110;\r\n",
        "document.write('<iframe src=\"http://ad.doubleclick.net/N4215/adi/imdb2.bom.movie/;p=b;tile=3;sz=728x90;oe=ISO-8859-1;ord=' + ord + '?\" width=\"728\" height=\"90\" marginwidth=\"0\" marginheight=\"0\" frameborder=\"0\" scrolling=\"no\">');\r\n",
        "\r\n",
        "if (navigator.userAgent.indexOf(\"Gecko\")==-1)\r\n",
        "{\r\n",
        "document.write('<script type=\"text/javascript\" src=\"http://ad.doubleclick.net/N4215/adj/imdb2.bom.movie/;p=b;tile=3;sz=728x90;abr=!ie;oe=ISO-8859-1;ord=' + ord + '?\"><\\/script>');\r\n",
        "}\r\n",
        "document.write('<\\/iframe>');\r\n",
        "//]]>\r\n",
        "</script>\n",
        "<noscript><a href=\"http://ad.doubleclick.net/N4215/jump/imdb2.bom.movie/;p=b;tile=3;sz=728x90;oe=ISO-8859-1;ord=185189110?\" target=\"_blank\"><img alt=\"\" border=\"0\" src=\"http://ad.doubleclick.net/N4215/ad/imdb2.bom.movie/;p=b;tile=3;sz=728x90;oe=ISO-8859-1;ord=185189110?\"/></a></noscript>\n",
        "<!-- end ad tag --></div>\n",
        "</div>\n",
        "</div>\n",
        "</div>\n"
       ]
      }
     ],
     "prompt_number": 11
    },
    {
     "cell_type": "code",
     "collapsed": false,
     "input": [
      "## movie title, total domestic gross, (release) date, runtime, rating\n",
      "print soup.find('title')\n",
      "title_string = soup.find('title').text\n",
      "print title_string\n",
      "title = title_string.split('(')[0].strip()\n",
      "print title"
     ],
     "language": "python",
     "metadata": {},
     "outputs": [
      {
       "output_type": "stream",
       "stream": "stdout",
       "text": [
        "<title>The Big Lebowski (1998) - Box Office Mojo</title>\n",
        "The Big Lebowski (1998) - Box Office Mojo\n",
        "The Big Lebowski\n"
       ]
      }
     ],
     "prompt_number": 59
    },
    {
     "cell_type": "code",
     "collapsed": false,
     "input": [
      "# Domestic Total Gross\n",
      "print soup.find(text=\"Domestic Total Gross: \")\n",
      "# text oes an EXACT match search\n",
      "print soup.find(text=\"Domestic Total Gross:\")\n",
      "\n",
      "import re\n",
      "dtg_string = soup.find(text=re.compile('Domestic Total'))\n",
      "print dtg_string\n",
      "dtg = dtg_string.findNextSibling().text\n",
      "dtg = dtg.replace('$','').replace(',','')\n",
      "print dtg\n",
      "print type(dtg)\n",
      "dtg = int(dtg)\n",
      "print dtg\n",
      "print type(dtg)"
     ],
     "language": "python",
     "metadata": {},
     "outputs": [
      {
       "output_type": "stream",
       "stream": "stdout",
       "text": [
        "Domestic Total Gross: \n",
        "None\n",
        "Domestic Total Gross: \n",
        "17451873\n",
        "<type 'unicode'>\n",
        "17451873\n",
        "<type 'int'>\n"
       ]
      }
     ],
     "prompt_number": 60
    },
    {
     "cell_type": "code",
     "collapsed": false,
     "input": [
      "def get_movie_value(soup,field_name):\n",
      "    obj = soup.find(text=re.compile(field_name))\n",
      "    if not obj:\n",
      "        return None\n",
      "    next_sibling = obj.findNextSibling()\n",
      "    if next_sibling:\n",
      "        return next_sibling.text\n",
      "    else:\n",
      "        return None"
     ],
     "language": "python",
     "metadata": {},
     "outputs": [],
     "prompt_number": 61
    },
    {
     "cell_type": "code",
     "collapsed": false,
     "input": [
      "# dtg\n",
      "dtg = get_movie_value(soup,'Domestic Total')\n",
      "print dtg\n",
      "\n",
      "# runtime\n",
      "runtime = get_movie_value(soup,'Runtime')\n",
      "print runtime\n",
      "\n",
      "# rating\n",
      "rating = get_movie_value(soup,'MPAA Rating')\n",
      "print rating"
     ],
     "language": "python",
     "metadata": {},
     "outputs": [
      {
       "output_type": "stream",
       "stream": "stdout",
       "text": [
        "$17,451,873\n",
        "1 hrs. 57 min.\n",
        "R\n"
       ]
      }
     ],
     "prompt_number": 62
    },
    {
     "cell_type": "code",
     "collapsed": false,
     "input": [
      "## some helpful helper methods to parse these strings\n",
      "\n",
      "import dateutil.parser\n",
      "\n",
      "def to_date(datestring):\n",
      "    date = dateutil.parser.parse(datestring)\n",
      "    return date\n",
      "\n",
      "def money_to_int(moneystring):\n",
      "    moneystring = moneystring.replace('$','').replace(',','')\n",
      "    return int(moneystring)\n",
      "\n",
      "def runtime_to_minutes(runtimestring):\n",
      "    runtime = runtimestring.split()\n",
      "    try:\n",
      "        minutes = int(runtime[0])*60 + int(runtime[2])\n",
      "        return minutes\n",
      "    except:\n",
      "        return None"
     ],
     "language": "python",
     "metadata": {},
     "outputs": [],
     "prompt_number": 63
    },
    {
     "cell_type": "code",
     "collapsed": false,
     "input": [
      "from pprint import pprint\n",
      "raw_release_date = get_movie_value(soup, 'Release Date')\n",
      "\n",
      "print raw_release_date\n",
      "\n",
      "release_date = to_date(raw_release_date)\n",
      "print release_date\n",
      "\n",
      "raw_domestic_total_gross = get_movie_value(soup, 'Domestic Total')\n",
      "domestic_total_gross = money_to_int(raw_domestic_total_gross)\n",
      "print domestic_total_gross\n",
      "\n",
      "raw_runtime = get_movie_value(soup, 'Runtime')\n",
      "runtime = runtime_to_minutes(raw_runtime)\n",
      "print runtime\n",
      "\n",
      "headers = ['movie_title',\n",
      "           'domestic_total_gross',\n",
      "           'release_date',\n",
      "           'runtime_mins',\n",
      "           'rating']\n",
      "\n",
      "movie_data = []\n",
      "\n",
      "movie_dict = zip(headers, [title, domestic_total_gross, release_date, runtime, rating])\n",
      "\n",
      "print 'dictionary', movie_dict\n",
      "\n",
      "\n",
      "movie_data.append(movie_dict)\n",
      "print ''\n",
      "pprint(movie_data)"
     ],
     "language": "python",
     "metadata": {},
     "outputs": [
      {
       "output_type": "stream",
       "stream": "stdout",
       "text": [
        "March 6, 1998\n",
        "1998-03-06 00:00:00\n",
        "17451873\n",
        "117\n",
        "dictionary [('movie_title', u'The Big Lebowski'), ('domestic_total_gross', 17451873), ('release_date', datetime.datetime(1998, 3, 6, 0, 0)), ('runtime_mins', 117), ('rating', u'R')]\n",
        "\n",
        "[[('movie_title', u'The Big Lebowski'),\n",
        "  ('domestic_total_gross', 17451873),\n",
        "  ('release_date', datetime.datetime(1998, 3, 6, 0, 0)),\n",
        "  ('runtime_mins', 117),\n",
        "  ('rating', u'R')]]\n"
       ]
      }
     ],
     "prompt_number": 65
    }
   ],
   "metadata": {}
  }
 ]
}